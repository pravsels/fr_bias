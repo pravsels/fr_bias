{
 "cells": [
  {
   "cell_type": "code",
   "execution_count": null,
   "id": "54d909e1",
   "metadata": {},
   "outputs": [],
   "source": [
    "!source ~/.bash_profile"
   ]
  },
  {
   "cell_type": "code",
   "execution_count": null,
   "id": "29db6cf9",
   "metadata": {},
   "outputs": [],
   "source": [
    "import numpy as np\n",
    "import pandas as pd\n",
    "import os\n",
    "import re\n",
    "from tensorflow.keras.preprocessing import image\n",
    "import facenet\n",
    "import tensorflow.compat.v1 as tf\n",
    "tf.disable_eager_execution()"
   ]
  },
  {
   "cell_type": "code",
   "execution_count": null,
   "id": "b255834a",
   "metadata": {},
   "outputs": [],
   "source": [
    "db_path = '/Users/santhoshnarayanan/Documents/Turing/GPU/MOSIP/data/testset'\n",
    "celebs  = []\n",
    " \n",
    "for r, d, f in os.walk(db_path): # r=root, d=directories, f = files\n",
    "    for file in f:\n",
    "        if ('.jpg' in file):\n",
    "            exact_path = r + \"/\" + file\n",
    "            celebs.append(exact_path)"
   ]
  },
  {
   "cell_type": "code",
   "execution_count": null,
   "id": "88ac2f98",
   "metadata": {},
   "outputs": [],
   "source": [
    "target_shape = (160, 160)\n",
    "imgs = [image.load_img(img, target_size=target_shape) for img in celebs]\n",
    "X = np.float32([(np.float32(img) - 127.5) / 127.5 for img in imgs])\n",
    "display(X.shape)"
   ]
  },
  {
   "cell_type": "code",
   "execution_count": null,
   "id": "cdad42d3",
   "metadata": {},
   "outputs": [],
   "source": [
    "checkpoint_path = '/Users/santhoshnarayanan/Documents/Turing/GPU/MOSIP/models/'\n",
    "# create a facenet model\n",
    "meta_file, ckpt_file = facenet.get_model_filenames(checkpoint_path)\n",
    "print('Metagraph file: %s' % meta_file)\n",
    "print('Checkpoint file: %s' % ckpt_file)"
   ]
  },
  {
   "cell_type": "code",
   "execution_count": null,
   "id": "3bbd1bc6",
   "metadata": {},
   "outputs": [],
   "source": [
    "def deducing_metagraph_path(meta_graph_file: str):\n",
    "    match = re.search(r'^(.*)\\.(data-\\d*-of-\\d*|index|meta)$', meta_graph_file)\n",
    "    if match is not None:\n",
    "        deduced_meta_graph_file = match.group(1) + '.meta'\n",
    "        if not os.path.isfile(deduced_meta_graph_file):\n",
    "            raise Error('\\n\\nMetaGraph freezing mechanism was enabled. '\n",
    "                        '\\n{} file does not represent MetaGraph. '\n",
    "                        '\\n{} path to MetaGraph was deduced, but it does not exist'\n",
    "                        '\\n\\nModel with MetaGraph consists of 3-4 files:'\n",
    "                        '\\n1. model_name.meta'\n",
    "                        '\\n2. model_name.index'\n",
    "                        '\\n3. model_name.data-00000-of-00001 (digit part may vary)'\n",
    "                        '\\n4. checkpoint (optional)'.format(meta_graph_file, deduced_meta_graph_file))\n",
    "        else:\n",
    "            meta_graph_file = deduced_meta_graph_file\n",
    "    else:\n",
    "        raise Error('\\n\\nMetaGraph freezing mechanism was enabled. '\n",
    "                    '\\n{} file does not represent MetaGraph. '\n",
    "                    '\\n\\nModel with MetaGraph consists of 3-4 files:'\n",
    "                    '\\n1. model_name.meta'\n",
    "                    '\\n2. model_name.index'\n",
    "                    '\\n3. model_name.data-00000-of-00001 (digit part may vary)'\n",
    "                    '\\n4. checkpoint (optional)'\n",
    "                    '\\n\\nTo load this model, simply run:'\n",
    "                    '\\npython3 mo_tf.py --input_meta_graph model_name.meta'\n",
    "                    ''.format(meta_graph_file))\n",
    "    return meta_graph_file\n",
    "\n",
    "def read_file_to_graph_def(graph_def: [tf.GraphDef, tf.MetaGraphDef], graph_file_name: str = \"\",\n",
    "                           is_binary: bool = True):\n",
    "    \"\"\"\n",
    "    Reads file to protobuf\n",
    "    :param graph_def: GraphDef orr MetaGraphDef object to store the network\n",
    "    :param graph_file_name: path to file with graph\n",
    "    :param is_binary: flag to switch between binary and test protobuf format of graph file\n",
    "    :return: GraphDef or MetaGaphDef containing the network with cleared device info.\n",
    "    \"\"\"\n",
    "    try:\n",
    "        if is_binary:\n",
    "            with open(graph_file_name, \"rb\") as f:\n",
    "                graph_def.ParseFromString(f.read())\n",
    "        else:\n",
    "            with open(graph_file_name, \"r\") as f:\n",
    "                text_format.Merge(f.read(), graph_def)\n",
    "        nodes_to_clear_device = graph_def.node if isinstance(graph_def, tf.GraphDef) else graph_def.graph_def.node\n",
    "        for node in nodes_to_clear_device:\n",
    "            node.device = \"\"\n",
    "    except Exception as e:\n",
    "        raise FrameworkError(\n",
    "            'TensorFlow cannot read the model file: \"{}\" is incorrect TensorFlow model file. '\n",
    "            '\\nThe file should contain one of the following TensorFlow graphs:'\n",
    "            '\\n1. frozen graph in text or binary format'\n",
    "            '\\n2. inference graph for freezing with checkpoint (--input_checkpoint) in text or binary format'\n",
    "            '\\n3. meta graph'\n",
    "            '\\n\\nMake sure that --input_model_is_text is provided for a model in text format. '\n",
    "            'By default, a model is interpreted in binary format. Framework error details: {}. ' +\n",
    "            refer_to_faq_msg(43),\n",
    "            graph_file_name,\n",
    "            str(e)\n",
    "        ) from e\n",
    "    return graph_def"
   ]
  },
  {
   "cell_type": "code",
   "execution_count": null,
   "id": "5084a0a9",
   "metadata": {
    "scrolled": true
   },
   "outputs": [],
   "source": [
    "with tf.Graph().as_default():\n",
    "    with tf.Session() as sess:\n",
    "        meta_graph_file = deducing_metagraph_path(os.path.join(checkpoint_path, meta_file))\n",
    "        input_meta_graph_def = read_file_to_graph_def(tf.MetaGraphDef(), meta_graph_file, is_binary = True)\n",
    "        # Since version 2.2 TF can fail with internal error while loading graph from .meta file.\n",
    "        # It happens because some operation may has an _output_shapes attribute inconsistent with the GraphDef\n",
    "        # calculated value. To avoid this problem we must delete `_output_shapes` attributes from operations\n",
    "        for node in input_meta_graph_def.graph_def.node:\n",
    "            if '_output_shapes' in node.attr:\n",
    "                del node.attr['_output_shapes']\n",
    "                    \n",
    "        saver = tf.train.import_meta_graph(input_meta_graph_def)\n",
    "        saver.restore(tf.get_default_session(), os.path.join(checkpoint_path, ckpt_file))\n",
    "        \n",
    "        images_placeholder = tf.get_default_graph().get_tensor_by_name(\"input:0\")\n",
    "        embeddings = tf.get_default_graph().get_tensor_by_name(\"embeddings:0\")\n",
    "        phase_train_placeholder = tf.get_default_graph().get_tensor_by_name(\"phase_train:0\")\n",
    "\n",
    "        # Run forward pass to calculate embeddings\n",
    "        feed_dict = {images_placeholder: X[0:80], phase_train_placeholder:False}\n",
    "        rep = sess.run(embeddings, feed_dict=feed_dict)\n",
    "        print(rep.shape)\n",
    "            \n",
    "        for i in range(1, 400):\n",
    "            feed_dict = { images_placeholder: X[(80*i):(80*(i+1))], phase_train_placeholder:False}\n",
    "            repA = sess.run(embeddings, feed_dict=feed_dict)\n",
    "            rep = np.concatenate((rep, repA), axis=0)\n",
    "            print(rep.shape)"
   ]
  },
  {
   "cell_type": "code",
   "execution_count": null,
   "id": "aaf9a7b1",
   "metadata": {},
   "outputs": [],
   "source": [
    "df = pd.DataFrame(rep) \n",
    "df.insert(loc = 0,\n",
    "          column = 'celeb',\n",
    "          value = celebs)\n",
    "display(df)"
   ]
  },
  {
   "cell_type": "code",
   "execution_count": null,
   "id": "4ef106d0",
   "metadata": {},
   "outputs": [],
   "source": [
    "df.to_csv('embeddings.csv')"
   ]
  }
 ],
 "metadata": {
  "kernelspec": {
   "display_name": "Python 3 (ipykernel)",
   "language": "python",
   "name": "python3"
  },
  "language_info": {
   "codemirror_mode": {
    "name": "ipython",
    "version": 3
   },
   "file_extension": ".py",
   "mimetype": "text/x-python",
   "name": "python",
   "nbconvert_exporter": "python",
   "pygments_lexer": "ipython3",
   "version": "3.8.5"
  }
 },
 "nbformat": 4,
 "nbformat_minor": 5
}

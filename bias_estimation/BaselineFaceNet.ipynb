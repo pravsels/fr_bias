{
 "cells": [
  {
   "cell_type": "code",
   "execution_count": null,
   "id": "e16d2a8a",
   "metadata": {},
   "outputs": [],
   "source": [
    "import numpy as np\n",
    "import pandas as pd\n",
    "import os\n",
    "from tensorflow.keras.preprocessing import image\n",
    "from keras_facenet import FaceNet"
   ]
  },
  {
   "cell_type": "code",
   "execution_count": null,
   "id": "597f8010",
   "metadata": {},
   "outputs": [],
   "source": [
    "# create a facenet model\n",
    "model = FaceNet(key = '20180402-114759',\n",
    "        use_prebuilt=True,\n",
    "        cache_folder='/Users/santhoshnarayanan/Documents/Turing/GPU/facenet_weights').model\n",
    "\n",
    "# summarize input and output shape\n",
    "print('Inputs: %s' % model.inputs)\n",
    "print('Outputs: %s' % model.outputs)\n",
    "target_shape = (160, 160)"
   ]
  },
  {
   "cell_type": "code",
   "execution_count": null,
   "id": "8c5672ed",
   "metadata": {},
   "outputs": [],
   "source": [
    "db_path = '/Users/santhoshnarayanan/Documents/Turing/SonyShades/storage/testset'\n",
    "\n",
    "celebs  = []\n",
    " \n",
    "for r, d, f in os.walk(db_path): # r=root, d=directories, f = files\n",
    "    for file in f:\n",
    "        if ('.jpg' in file):\n",
    "            exact_path = r + \"/\" + file\n",
    "            celebs.append(exact_path)"
   ]
  },
  {
   "cell_type": "code",
   "execution_count": null,
   "id": "6525f774",
   "metadata": {},
   "outputs": [],
   "source": [
    "print(len(celebs))"
   ]
  },
  {
   "cell_type": "code",
   "execution_count": null,
   "id": "21460dfb",
   "metadata": {},
   "outputs": [],
   "source": [
    "imgs = [image.load_img(img, target_size=target_shape) for img in celebs]\n",
    "X = np.float32([(np.float32(img) - 127.5) / 127.5 for img in imgs])\n",
    "display(X.shape)"
   ]
  },
  {
   "cell_type": "code",
   "execution_count": null,
   "id": "70ff9ad7",
   "metadata": {},
   "outputs": [],
   "source": [
    "rep = model.predict(X[0:1000], batch_size=50)\n",
    "print(rep.shape)\n",
    "\n",
    "for i in range(1, 16):\n",
    "    repA = model.predict(X[(1000*i):(1000*(i+1))], batch_size=50)\n",
    "    rep = np.concatenate((rep, repA), axis=0)\n",
    "    print(rep.shape)"
   ]
  },
  {
   "cell_type": "code",
   "execution_count": null,
   "id": "ac920c01",
   "metadata": {},
   "outputs": [],
   "source": [
    "df = pd.DataFrame(rep) \n",
    "df.insert(loc = 0,\n",
    "          column = 'celeb',\n",
    "          value = celebs)\n",
    "display(df)"
   ]
  },
  {
   "cell_type": "code",
   "execution_count": null,
   "id": "a292acf7",
   "metadata": {},
   "outputs": [],
   "source": [
    "df.to_csv('../storage/embeddings_FACENET.csv')"
   ]
  }
 ],
 "metadata": {
  "kernelspec": {
   "display_name": "Python 3 (ipykernel)",
   "language": "python",
   "name": "python3"
  },
  "language_info": {
   "codemirror_mode": {
    "name": "ipython",
    "version": 3
   },
   "file_extension": ".py",
   "mimetype": "text/x-python",
   "name": "python",
   "nbconvert_exporter": "python",
   "pygments_lexer": "ipython3",
   "version": "3.9.17"
  }
 },
 "nbformat": 4,
 "nbformat_minor": 5
}
